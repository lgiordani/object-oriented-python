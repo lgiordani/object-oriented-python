{
 "cells": [
  {
   "cell_type": "markdown",
   "metadata": {},
   "source": [
    "# Object-oriented Python - Part 4 - Exercises"
   ]
  },
  {
   "cell_type": "markdown",
   "metadata": {},
   "source": [
    "## Exercise 1\n",
    "\n",
    "Modify the `Lift` class as shown\n",
    "\n",
    "```\n",
    "class Lift:\n",
    "    status = 'undefined'\n",
    "\n",
    "    def __init__(self, f, s):\n",
    "        self.floor = f\n",
    "        self.status = s\n",
    "\n",
    "    def open(self):\n",
    "        self.status = 'open'\n",
    "\n",
    "    def close(self):\n",
    "        self.status = 'closed'\n",
    "```\n",
    "\n",
    "adding a class attribute `status` with value `'undefined'`.  Now, create an instance. What value does the `status` attribute of the instance have? Why? What happens if you change the value of status in the class?"
   ]
  },
  {
   "cell_type": "markdown",
   "metadata": {},
   "source": [
    "## Exercise 2\n",
    "\n",
    "Modify the `Lift` class as shown\n",
    "\n",
    "```\n",
    "class Lift:\n",
    "    status = 'closed'\n",
    "    \n",
    "    def __init__(self, f):\n",
    "        self.floor = f\n",
    "\n",
    "    def open(self):\n",
    "        self.status = 'open'\n",
    "\n",
    "    def close(self):\n",
    "        self.status = 'closed'\n",
    "```\n",
    "\n",
    "adding a class attribute `status` with value `'closed'` and remove `self.status` from `__init__`. Now, create an instance. What is the value of the `status` attribute? What happens if you change the value of status in the class? Call `open()`. What is the value of the `status` attribute? What happens if you change the value of status in the class? "
   ]
  }
 ],
 "metadata": {
  "kernelspec": {
   "display_name": "Python 3",
   "language": "python",
   "name": "python3"
  },
  "language_info": {
   "codemirror_mode": {
    "name": "ipython",
    "version": 3
   },
   "file_extension": ".py",
   "mimetype": "text/x-python",
   "name": "python",
   "nbconvert_exporter": "python",
   "pygments_lexer": "ipython3",
   "version": "3.7.3"
  }
 },
 "nbformat": 4,
 "nbformat_minor": 2
}
